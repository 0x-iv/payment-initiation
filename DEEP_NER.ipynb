{
 "cells": [
  {
   "cell_type": "markdown",
   "metadata": {},
   "source": [
    "<center><h1><font color=\"orange\">BiDirectional LSTMs for Named Entity Recognition Tasks</font></h1></center>\n",
    "<p>In this notebook we will be exploring the usage of BiDirectional Long Short Term Memory (LSTM) Neural Networks in conjunction with Conditional Random Fields (CRF) for named entity recognition (NER) tasks. NER seeks to locate and classify named entity mentions in unstructured text into pre-defined categories such as the person names, organizations, locations, medical codes, time expressions, quantities, monetary values, percentages, etc. For example, say we want to extract people and geographical locations from the following sentence: </p>\n",
    "<p><i>Frank went to Paris</i><p>\n",
    "<p>An NER model would return Frank tagged as person and Paris tagged as geographical location.</p>\n",
    "<p>In the financial payment industry, financial institutions commonly use mediums such as email and text to facilitate a payment from one account to another. A recipient manually parses this email and then structures the extracted data for upload to an FFDC API that facilitates the deal.</p>\n",
    "<p>We will create a BiDirectional LSTM with a CRF layer that performs NER on these emails and uses Finastra's FFDC API's to initiate the payment. In this notebook you will learn about natural language processing (NLP), LSTMs, BiDirectional LSTMs, Conditional Random Fields (CRFs), OAuth2 authentication, and APIs.</p> "
   ]
  },
  {
   "cell_type": "markdown",
   "metadata": {},
   "source": [
    "<h4>Imports:</h4>\n",
    "<p>We use the following imports for data handling, visualization, machine learning, and accessing APIs. If you are missing any of these libraries in your python environment, you can use the pip package installer to install them.</p>"
   ]
  },
  {
   "cell_type": "code",
   "execution_count": 1,
   "metadata": {},
   "outputs": [
    {
     "name": "stderr",
     "output_type": "stream",
     "text": [
      "Using TensorFlow backend.\n"
     ]
    }
   ],
   "source": [
    "#Data Handling Imports \n",
    "import pandas as pd\n",
    "import numpy as np\n",
    "import json\n",
    "import string\n",
    "import warnings\n",
    "warnings.filterwarnings(\"ignore\")\n",
    "\n",
    "#NLP Imports\n",
    "import re \n",
    "import nltk\n",
    "\n",
    "#API Handling\n",
    "import requests\n",
    "\n",
    "#Machine Learning Imports\n",
    "from sklearn.model_selection import train_test_split\n",
    "from sklearn_crfsuite import CRF\n",
    "from sklearn_crfsuite.metrics import flat_classification_report\n",
    "from sklearn_crfsuite import CRF as skCRF\n",
    "import joblib\n",
    "from keras_contrib.layers import CRF\n",
    "from keras.models import load_model\n",
    "from keras.preprocessing.sequence import pad_sequences\n",
    "from keras import backend as K\n",
    "from keras.utils import to_categorical\n",
    "from keras.models import Model, Input, load_model\n",
    "from keras.layers.merge import add\n",
    "from keras.layers import LSTM, Embedding, Dense, TimeDistributed, Dropout, Bidirectional, Lambda\n",
    "from keras_contrib.layers import CRF\n",
    "from seqeval.metrics import precision_score, recall_score, f1_score, classification_report\n",
    "\n",
    "#Printing Output\n",
    "from IPython.display import Markdown, display\n",
    "def printmd(string):\n",
    "    display(Markdown(string))\n",
    "    \n",
    "#Visualization\n",
    "from wordcloud import WordCloud, STOPWORDS\n",
    "import matplotlib.pyplot as plt\n",
    "import pygal\n",
    "from pygal.style import Style\n",
    "from IPython.display import display, HTML"
   ]
  },
  {
   "cell_type": "markdown",
   "metadata": {},
   "source": [
    "<h4>Load Data:</h4>\n",
    "<p>First, we need to load our dataset. This dataset contains an unstructured email as well as tagged features for the amount, the account sending money (accountA), the account receiving money (accountB), and the currency.</p>"
   ]
  },
  {
   "cell_type": "code",
   "execution_count": 2,
   "metadata": {},
   "outputs": [
    {
     "data": {
      "text/html": [
       "<div>\n",
       "<style scoped>\n",
       "    .dataframe tbody tr th:only-of-type {\n",
       "        vertical-align: middle;\n",
       "    }\n",
       "\n",
       "    .dataframe tbody tr th {\n",
       "        vertical-align: top;\n",
       "    }\n",
       "\n",
       "    .dataframe thead th {\n",
       "        text-align: right;\n",
       "    }\n",
       "</style>\n",
       "<table border=\"1\" class=\"dataframe\">\n",
       "  <thead>\n",
       "    <tr style=\"text-align: right;\">\n",
       "      <th></th>\n",
       "      <th>email</th>\n",
       "      <th>amount</th>\n",
       "      <th>accountA</th>\n",
       "      <th>accountB</th>\n",
       "      <th>currency</th>\n",
       "    </tr>\n",
       "  </thead>\n",
       "  <tbody>\n",
       "    <tr>\n",
       "      <th>0</th>\n",
       "      <td>Please move 4101673 OMR dollars from account n...</td>\n",
       "      <td>4101673</td>\n",
       "      <td>nZ</td>\n",
       "      <td>mg</td>\n",
       "      <td>OMR</td>\n",
       "    </tr>\n",
       "    <tr>\n",
       "      <th>1</th>\n",
       "      <td>Hi this is Elizabeth Scott. I need you to help...</td>\n",
       "      <td>2696601</td>\n",
       "      <td>iVwSfPBu</td>\n",
       "      <td>42jrfwc</td>\n",
       "      <td>IRR</td>\n",
       "    </tr>\n",
       "    <tr>\n",
       "      <th>2</th>\n",
       "      <td>Move $ 9462209 NAD to 205605460 from 839079808...</td>\n",
       "      <td>9462209</td>\n",
       "      <td>839079808</td>\n",
       "      <td>205605460</td>\n",
       "      <td>NAD</td>\n",
       "    </tr>\n",
       "    <tr>\n",
       "      <th>3</th>\n",
       "      <td>Please move 889295 ARN dollars from account 22...</td>\n",
       "      <td>889295</td>\n",
       "      <td>22</td>\n",
       "      <td>1</td>\n",
       "      <td>ARN</td>\n",
       "    </tr>\n",
       "    <tr>\n",
       "      <th>4</th>\n",
       "      <td>Please take account EPYFGRXN6Q and move $ 4804...</td>\n",
       "      <td>4804519</td>\n",
       "      <td>EPYFGRXN6Q</td>\n",
       "      <td>YSAWZNQ</td>\n",
       "      <td>CZK</td>\n",
       "    </tr>\n",
       "  </tbody>\n",
       "</table>\n",
       "</div>"
      ],
      "text/plain": [
       "                                               email   amount    accountA  \\\n",
       "0  Please move 4101673 OMR dollars from account n...  4101673          nZ   \n",
       "1  Hi this is Elizabeth Scott. I need you to help...  2696601    iVwSfPBu   \n",
       "2  Move $ 9462209 NAD to 205605460 from 839079808...  9462209   839079808   \n",
       "3  Please move 889295 ARN dollars from account 22...   889295          22   \n",
       "4  Please take account EPYFGRXN6Q and move $ 4804...  4804519  EPYFGRXN6Q   \n",
       "\n",
       "    accountB currency  \n",
       "0         mg      OMR  \n",
       "1    42jrfwc      IRR  \n",
       "2  205605460      NAD  \n",
       "3          1      ARN  \n",
       "4    YSAWZNQ      CZK  "
      ]
     },
     "execution_count": 2,
     "metadata": {},
     "output_type": "execute_result"
    }
   ],
   "source": [
    "df = pd.read_csv('data9.csv',sep='|')\n",
    "df.head()"
   ]
  },
  {
   "cell_type": "markdown",
   "metadata": {},
   "source": [
    "<p>Sample Email: </p>"
   ]
  },
  {
   "cell_type": "code",
   "execution_count": 3,
   "metadata": {},
   "outputs": [
    {
     "name": "stdout",
     "output_type": "stream",
     "text": [
      "Hi this is Elizabeth Scott. I need you to help me transfer 2696601 IRR from iVwSfPBu into 42jrfwc. How soon can this be completed? Please let me know.\n"
     ]
    }
   ],
   "source": [
    "print(df.iloc[1].email)"
   ]
  },
  {
   "cell_type": "markdown",
   "metadata": {},
   "source": [
    "<h4>Clean Data:</h4>\n",
    "<p>Since we have unstructured text data, we need to clean it up a bit for our machine learning model. We will perform some operations such as removing parentheses and brackets, fixing punctuation, and adjusting currency notation.</p>"
   ]
  },
  {
   "cell_type": "code",
   "execution_count": 4,
   "metadata": {},
   "outputs": [],
   "source": [
    "def remove_parentheses(i): \n",
    "    return re.sub('[()\"\"“”{}<>]', '', i)\n",
    "\n",
    "def remove_brackets(i): \n",
    "    i = i.replace('[',\"\")\n",
    "    i = i.replace(']',\"\")\n",
    "    return i\n",
    "\n",
    "def fix_punct(i): \n",
    "    i = re.sub(r\"([a-z]+)([.()!])\", r'\\1 ',i)\n",
    "    i = i.replace(\".\", \" \")\n",
    "    i = i.replace(\"?\",\" \")\n",
    "    i = i.replace(\"!\", \" \")\n",
    "    i = i.strip()\n",
    "    return i\n",
    "\n",
    "def fix_curr(i):\n",
    "    txt = re.sub(r\"\\$([0-9+])\", \"$ \\\\1\", i)\n",
    "    return txt \n",
    "\n",
    "df['email'] = df['email'].apply(lambda i: fix_punct(i))\n",
    "df['email'] = df['email'].apply(lambda i: remove_brackets(i))\n",
    "df['email'] = df['email'].apply(lambda i: remove_parentheses(i))\n",
    "df['email'] = df['email'].apply(lambda i: fix_curr(i))\n",
    "df['amount'] = df['amount'].apply(lambda i: str(i))\n",
    "df['accountA'] = df['accountA'].apply(lambda i: str(i))\n",
    "df['accountB'] = df['accountB'].apply(lambda i: str(i))"
   ]
  },
  {
   "cell_type": "markdown",
   "metadata": {},
   "source": [
    "<p>Sample Cleaned Email: </p>"
   ]
  },
  {
   "cell_type": "code",
   "execution_count": 5,
   "metadata": {},
   "outputs": [
    {
     "name": "stdout",
     "output_type": "stream",
     "text": [
      "Hi this is Elizabeth Scott  I need you to help me transfer 2696601 IRR from iVwSfPBu into 42jrfwc  How soon can this be completed  Please let me know\n"
     ]
    }
   ],
   "source": [
    "print(df.iloc[1].email)"
   ]
  },
  {
   "cell_type": "markdown",
   "metadata": {},
   "source": [
    "<h4>Word Cloud</h4>\n",
    "<p>Let's explore the cleaned data by first checking out a word cloud. This will give us a visualization of the most popular words in our dataset. We check out the top 100 below:</p>"
   ]
  },
  {
   "cell_type": "code",
   "execution_count": 6,
   "metadata": {},
   "outputs": [
    {
     "data": {
      "image/png": "[encoded data removed]",
      "text/plain": [
       "<Figure size 864x864 with 1 Axes>"
      ]
     },
     "metadata": {
      "needs_background": "light"
     },
     "output_type": "display_data"
    }
   ],
   "source": [
    "stopwords = set(STOPWORDS)\n",
    "def show_wordcloud(data, title = None):\n",
    "    wordcloud = WordCloud(\n",
    "        background_color='white',\n",
    "        contour_color='steelblue',\n",
    "        stopwords=stopwords,\n",
    "        max_words=100,\n",
    "        max_font_size=40, \n",
    "        scale=3,\n",
    "        random_state=1 \n",
    "    ).generate(str(data))\n",
    "\n",
    "    fig = plt.figure(1, figsize=(12, 12))\n",
    "    plt.axis('off')\n",
    "    if title: \n",
    "        fig.suptitle(title, fontsize=20)\n",
    "        fig.subplots_adjust(top=2.3)\n",
    "\n",
    "    plt.imshow(wordcloud)\n",
    "    plt.show()\n",
    "\n",
    "show_wordcloud(df.email)"
   ]
  },
  {
   "cell_type": "markdown",
   "metadata": {},
   "source": [
    "<h4>Word Lengths:</h4>\n",
    "<p>Let's take a look at some descriptive statistics of the length of the emails:</p>"
   ]
  },
  {
   "cell_type": "code",
   "execution_count": 7,
   "metadata": {},
   "outputs": [
    {
     "name": "stdout",
     "output_type": "stream",
     "text": [
      "mean: 270.0\n",
      "std: 355.3960136673064\n",
      "25%: 74.75\n",
      "50%: 162.0\n",
      "75%: 342.25\n",
      "max: 1726.0\n"
     ]
    }
   ],
   "source": [
    "stats = ['mean','std','25%','50%','75%','max']\n",
    "df_stats = df.email.str.split().apply(len).value_counts().describe()\n",
    "for i in stats: \n",
    "    print(i+':',df_stats[i])"
   ]
  },
  {
   "cell_type": "markdown",
   "metadata": {},
   "source": [
    "<h4>Extract Sentences and Labels:</h4>\n",
    "<p>Now that we have our cleaned data, we need to pull out the individual emails and zip together a list of the labels. The labels will be the amount, accountA, accountB, and currency. We will use these lists to generate our pre-features and later on our features.</p>"
   ]
  },
  {
   "cell_type": "code",
   "execution_count": 8,
   "metadata": {},
   "outputs": [
    {
     "name": "stdout",
     "output_type": "stream",
     "text": [
      "Sample Cleaned Sentence:\n",
      "Please move 4101673 OMR dollars from account nZ to mg\n",
      "\n",
      "Sample Labels:\n",
      "('4101673', 'nZ', 'mg', 'OMR')\n"
     ]
    }
   ],
   "source": [
    "sentences = df.email.values.tolist()\n",
    "labels = list(zip(df.amount.values.tolist(),df.accountA.values.tolist(),df.accountB.values.tolist(), df.currency.values.tolist()))\n",
    "print(\"Sample Cleaned Sentence:\")\n",
    "print(sentences[0])\n",
    "print(\"\\nSample Labels:\")\n",
    "print(labels[0])"
   ]
  },
  {
   "cell_type": "markdown",
   "metadata": {},
   "source": [
    "<h4>Obtain Pre-Feature Vector:</h4>\n",
    "<p>We now need to generate a pre-feature vector. We will loop over all of our data, tokenize the sentences, generate the part of speech for each token in the sentence, and append our labels. This constitutes our pre-feature vector.</p>"
   ]
  },
  {
   "cell_type": "code",
   "execution_count": 9,
   "metadata": {},
   "outputs": [
    {
     "name": "stdout",
     "output_type": "stream",
     "text": [
      "Sample Pre-Feature Vector:\n",
      "[('Please', 'NNP', 'O'), ('move', 'VB', 'O'), ('4101673', 'CD', 'amount'), ('OMR', 'NNP', 'currency'), ('dollars', 'NNS', 'O'), ('from', 'IN', 'O'), ('account', 'NN', 'O'), ('nZ', 'NN', 'accountA'), ('to', 'TO', 'O'), ('mg', 'VB', 'accountB')]\n"
     ]
    }
   ],
   "source": [
    "pre_feats = []\n",
    "\n",
    "#loop over each sentence and tokenize it separately\n",
    "for sidx, s in enumerate(sentences):\n",
    "    sent_text = nltk.sent_tokenize(s) # this gives us a list of sentences\n",
    "    for idx,sentence in enumerate(sent_text):\n",
    "        sent_labels = []\n",
    "        all_info = []\n",
    "        tokenized_text = nltk.word_tokenize(sentence)\n",
    "        for j in tokenized_text: \n",
    "            if j == labels[sidx][0]: \n",
    "                sent_labels.append('amount')\n",
    "            elif j == labels[sidx][1]: \n",
    "                sent_labels.append('accountA')\n",
    "            elif j == labels[sidx][2]: \n",
    "                sent_labels.append('accountB')\n",
    "            elif j == labels[sidx][3]:\n",
    "                sent_labels.append('currency')\n",
    "            else: \n",
    "                sent_labels.append('O')\n",
    "        tagged = nltk.pos_tag(tokenized_text)\n",
    "\n",
    "        for idx2, tag in enumerate(tagged): \n",
    "            l = (tag[0],tag[1],sent_labels[idx2])\n",
    "            all_info.append(l)\n",
    "        pre_feats.append(all_info)\n",
    "        \n",
    "print(\"Sample Pre-Feature Vector:\")\n",
    "print(pre_feats[0])"
   ]
  },
  {
   "cell_type": "markdown",
   "metadata": {},
   "source": [
    "<h4>Feature Vectors:</h4>\n",
    "<p>We will now take the above vectors and create the vectors that will be used to train/test our machine learning model:</p>\n",
    "<ul>\n",
    "    <li>Input - A padded feature vector where each value is an enumerated position of a word</li>\n",
    "    <li>Target - A one hot encoded vector where a 1 representes the position of the tag</li>\n",
    "</ul>"
   ]
  },
  {
   "cell_type": "code",
   "execution_count": 10,
   "metadata": {},
   "outputs": [],
   "source": [
    "def get_feature_vecs(max_len,sentences):\n",
    "    #Get set of words and tags in dataset\n",
    "    words, tags = [],[]\n",
    "    for i in sentences: \n",
    "        for j in i: \n",
    "            words.append(j[0])\n",
    "            tags.append(j[2])\n",
    "    words = list(set(words))\n",
    "    words.append(\"ENDPAD\")\n",
    "    tags = list(set(tags))\n",
    "    n_words = len(words)\n",
    "    n_tags = len(tags)\n",
    "    \n",
    "    #Create feature vector\n",
    "    word2idx = {w: i + 1 for i, w in enumerate(words)}\n",
    "    tag2idx = {t: i for i, t in enumerate(tags)}\n",
    "    \n",
    "    #Format input\n",
    "    X = [[word2idx[w[0]] for w in s] for s in sentences]\n",
    "    X = pad_sequences(maxlen=max_len, sequences=X, padding=\"post\", value=n_words-1)\n",
    "\n",
    "    #Format target\n",
    "    y = [[tag2idx[w[2]] for w in s] for s in sentences]\n",
    "    y = pad_sequences(maxlen=max_len, sequences=y, padding=\"post\", value=tag2idx[\"O\"])\n",
    "    y = [to_categorical(i, num_classes=n_tags) for i in y]\n",
    "    return X, y, n_words, n_tags, words, tags"
   ]
  },
  {
   "cell_type": "code",
   "execution_count": 11,
   "metadata": {},
   "outputs": [],
   "source": [
    "max_len = 32 #We choose a 32 dimensional vector as feature input\n",
    "X, y, n_words, n_tags, words, tags = get_feature_vecs(max_len,pre_feats)"
   ]
  },
  {
   "cell_type": "code",
   "execution_count": 12,
   "metadata": {},
   "outputs": [
    {
     "name": "stdout",
     "output_type": "stream",
     "text": [
      "Sample Feature Vector:\n",
      "[32621 24421  7935  1418 31811 32488 19453  8996 17801 11630 30511 21464\n",
      " 30822 32903 33049 15597 18381  6128  9599   221 21906 26849 10030 15904\n",
      " 14057 16034 21906 33944 25954 32909  3615  2993]\n",
      "\n",
      "Sample Feature Label\n",
      "[[1. 0. 0. 0. 0.]\n",
      " [1. 0. 0. 0. 0.]\n",
      " [1. 0. 0. 0. 0.]\n",
      " [1. 0. 0. 0. 0.]\n",
      " [0. 0. 0. 1. 0.]\n",
      " [0. 0. 1. 0. 0.]\n",
      " [1. 0. 0. 0. 0.]\n",
      " [1. 0. 0. 0. 0.]\n",
      " [0. 1. 0. 0. 0.]\n",
      " [1. 0. 0. 0. 0.]\n",
      " [1. 0. 0. 0. 0.]\n",
      " [1. 0. 0. 0. 0.]\n",
      " [1. 0. 0. 0. 0.]\n",
      " [0. 0. 0. 0. 1.]\n",
      " [1. 0. 0. 0. 0.]\n",
      " [1. 0. 0. 0. 0.]\n",
      " [1. 0. 0. 0. 0.]\n",
      " [1. 0. 0. 0. 0.]\n",
      " [1. 0. 0. 0. 0.]\n",
      " [1. 0. 0. 0. 0.]\n",
      " [1. 0. 0. 0. 0.]\n",
      " [1. 0. 0. 0. 0.]\n",
      " [1. 0. 0. 0. 0.]\n",
      " [1. 0. 0. 0. 0.]\n",
      " [1. 0. 0. 0. 0.]\n",
      " [1. 0. 0. 0. 0.]\n",
      " [1. 0. 0. 0. 0.]\n",
      " [1. 0. 0. 0. 0.]\n",
      " [1. 0. 0. 0. 0.]\n",
      " [1. 0. 0. 0. 0.]\n",
      " [1. 0. 0. 0. 0.]\n",
      " [1. 0. 0. 0. 0.]]\n"
     ]
    }
   ],
   "source": [
    "print(\"Sample Feature Vector:\")\n",
    "print(X[20])\n",
    "print(\"\\nSample Feature Label\")\n",
    "print(y[20])"
   ]
  },
  {
   "cell_type": "markdown",
   "metadata": {},
   "source": [
    "<h4>Train/Test Split:</h4>\n",
    "<p>We now need to split our data into a training and testing set so we can properly evaluate our machine learning model. We use the train_test_split function from the sklearn library. We will also keep track of the indices in our train/test set.</p>"
   ]
  },
  {
   "cell_type": "code",
   "execution_count": 13,
   "metadata": {},
   "outputs": [],
   "source": [
    "indices = range(X.shape[0])\n",
    "X_train, X_test, y_train, y_test,indices_train,indices_test = train_test_split(X, y,indices, test_size=0.10, random_state=42)"
   ]
  },
  {
   "cell_type": "markdown",
   "metadata": {},
   "source": [
    "<h2>Recurrent Neural Networks:</h2>\n",
    "<p>Humans have an incredibly fast process of comprehension. As we are reading this text, we understand each word based on our understanding of the previous words. We do not read each word, throw away what we have learned and start learning the next words. Our thoughts have persistence and follow a sequential thought order.</p>\n",
    "<p>If we take a look at a regular feed forward neural network, we see that there is no persistence. These networks don't allow us to sequentially reason from previous events to inform later ones.</p>\n",
    "<img src=\"Images/rnn0.png\"/>\n",
    "<p>Above, we have a segment of neural network $A$ that looks at some input $x_t$ and outputs a value $h_t$. There is a loop which allows information to be passed from one step of the network to the next. RNNs are called recurrent because they perform the same task for every element of a sequence, with the output being dependant on the previous computations we know that have a memory which captures information about what has so far been calculated.</p>\n",
    "<p>More specifically, for each hidden state $h$ we derive $y$ through the follwing equations:</p>\n",
    "<p>Here, $W_{xh}x_t$ is the multiplication of input $x_t$ by a weight matrix $W_{xh}$, which is essentially a way for the hidden layer to exract information out of the input. $W_{hh}H_{t-1}$ allows the network to extract information out of the entire history of past inputs to compute the output. We let $f$ and $g$ be activation functions and $b_1$ and $b_2$ be biases.</p>\n",
    "<img src=\"Images/rnn2.png\"/>\n",
    "<p>We can see this process below:</p>\n",
    "<img src=\"Images/rnn1.png\"/>\n",
    "<p>RNNs are great for a variety of sequential tasks, but can suffer when the gap between the relevant information and the point where the information is needed becaomes very large. As this gap grows, RNNs become unable to learn to connect this information. However, we can turn to LSTMs to solve this problem.</p>"
   ]
  },
  {
   "cell_type": "markdown",
   "metadata": {},
   "source": [
    "<h2>LSTMs:</h2>\n",
    "<p>LSTMs are a special type of RNN that is capable of learning long-term dependencies. Remembering information for long periods of time is their default behavior. The rerpeating module in an LSTM looks as follows:</p>\n",
    "<img src=\"Images/lstm0.png\"/>\n",
    "<p>With LSTMS there are 4 gates.</p>\n",
    "<h5>Gate 1: Forget Gate Layer</h5>\n",
    "<p>This decides what information we are going to throw away from the cell state. This looks at $h_{t-1}$ and $x_t$ and applys a sigmoid to output a number between 0 and 1.</p>\n",
    "<img src=\"Images/lstm1.png\"/>\n",
    "<h5>Gate 2: What Information to Store</h5>\n",
    "<p>The next step is what information we are going to store. We have a sigmoid layer called the Input gate layer that decides which values to update and then a tanh layer that creates new candidate values.</p>\n",
    "<img src=\"Images/lstm2.png\"/>\n",
    "<h5>Gate 3: The Update</h5>\n",
    "<p>We now drop the things we forgot earlier and add the new information.</p>\n",
    "<img src=\"Images/lstm5.png\"/>\n",
    "<h5>Gate 4:  The Output</h5>\n",
    "<p>Now we decide what we are going to output. We run a sigmoid layer which decides which parts of the sell state we will output. We then put the cell state through tanh and multiply it by tthe output of the sigmoid gate.</p>\n",
    "<img src=\"Images/lstm4.png\"/>"
   ]
  },
  {
   "cell_type": "markdown",
   "metadata": {},
   "source": [
    "<h4>Bidirectional LSTM:</h4>\n",
    "<p>A bidirectional lstm simply runs our input two ways, one from past to future and one from future to past. This can help us better understand context. The architecture looks as follows:</p>\n",
    "<img src=\"Images/bidirectionallstm0.png\"/>"
   ]
  },
  {
   "cell_type": "markdown",
   "metadata": {},
   "source": [
    "<h4>Conditional Random Field:</h4>\n",
    "<p>Conditional Random Fields are another model for predicting sequences, using information from previous labels and thus increasing the amount of information the model has to make a good prediction. A CRF boils down to solving:</p>\n",
    "<img src=\"Images/crf0.png\"/>"
   ]
  },
  {
   "cell_type": "markdown",
   "metadata": {},
   "source": [
    "<h4>Create Bidirectional LSTM + CRF Model:</h4>\n",
    "<p>We now create the neural by having an input layer, an embedding layer, a bidirectional LSTM layer, and wrap a CRF layer around it.</p>"
   ]
  },
  {
   "cell_type": "code",
   "execution_count": 14,
   "metadata": {},
   "outputs": [
    {
     "name": "stdout",
     "output_type": "stream",
     "text": [
      "WARNING:tensorflow:From /anaconda3/envs/payment_email3/lib/python3.7/site-packages/tensorflow/python/framework/op_def_library.py:263: colocate_with (from tensorflow.python.framework.ops) is deprecated and will be removed in a future version.\n",
      "Instructions for updating:\n",
      "Colocations handled automatically by placer.\n",
      "WARNING:tensorflow:From /anaconda3/envs/payment_email3/lib/python3.7/site-packages/keras/backend/tensorflow_backend.py:3445: calling dropout (from tensorflow.python.ops.nn_ops) with keep_prob is deprecated and will be removed in a future version.\n",
      "Instructions for updating:\n",
      "Please use `rate` instead of `keep_prob`. Rate should be set to `rate = 1 - keep_prob`.\n"
     ]
    }
   ],
   "source": [
    "#Create the Bidirectional LSTM\n",
    "input = Input(shape=(max_len,))\n",
    "model = Embedding(input_dim=n_words + 1, output_dim=20,input_length=max_len, mask_zero=True)(input)\n",
    "model = Bidirectional(LSTM(units=50, return_sequences=True,recurrent_dropout=0.1))(model)  \n",
    "model = TimeDistributed(Dense(50, activation=\"relu\"))(model)\n",
    "\n",
    "#Create the CRF\n",
    "crf = CRF(n_tags) \n",
    "\n",
    "#Put the Bidirectional LSTM in the CRF\n",
    "out = crf(model)\n",
    "\n",
    "#Create one model from the two models\n",
    "model = Model(input, out)\n",
    "model.compile(optimizer=\"rmsprop\", loss=crf.loss_function, metrics=[crf.accuracy])"
   ]
  },
  {
   "cell_type": "markdown",
   "metadata": {},
   "source": [
    "<h4>Train Model:</h4>\n",
    "<p>We now train the CRF model with our training data. We picked 4 epochs and a batch size of 64. These are parameters we can change if we want to see how varying these may influence the results. </p>"
   ]
  },
  {
   "cell_type": "code",
   "execution_count": 15,
   "metadata": {},
   "outputs": [
    {
     "name": "stdout",
     "output_type": "stream",
     "text": [
      "WARNING:tensorflow:From /anaconda3/envs/payment_email3/lib/python3.7/site-packages/tensorflow/python/ops/math_ops.py:3066: to_int32 (from tensorflow.python.ops.math_ops) is deprecated and will be removed in a future version.\n",
      "Instructions for updating:\n",
      "Use tf.cast instead.\n",
      "Train on 12150 samples, validate on 1350 samples\n",
      "Epoch 1/4\n",
      "12150/12150 [==============================] - 15s 1ms/step - loss: 0.4398 - crf_viterbi_accuracy: 0.8708 - val_loss: 0.2777 - val_crf_viterbi_accuracy: 0.8921\n",
      "Epoch 2/4\n",
      "12150/12150 [==============================] - 13s 1ms/step - loss: 0.1641 - crf_viterbi_accuracy: 0.9393 - val_loss: 0.0415 - val_crf_viterbi_accuracy: 0.9892\n",
      "Epoch 3/4\n",
      "12150/12150 [==============================] - 17s 1ms/step - loss: 0.0183 - crf_viterbi_accuracy: 0.9956 - val_loss: 0.0077 - val_crf_viterbi_accuracy: 0.9983\n",
      "Epoch 4/4\n",
      "12150/12150 [==============================] - 27s 2ms/step - loss: 0.0040 - crf_viterbi_accuracy: 0.9990 - val_loss: 0.0023 - val_crf_viterbi_accuracy: 0.9994\n"
     ]
    }
   ],
   "source": [
    "history = model.fit(X_train, np.array(y_train), batch_size=64, epochs=4, verbose=1,validation_data=(X_test,np.array(y_test)))"
   ]
  },
  {
   "cell_type": "markdown",
   "metadata": {},
   "source": [
    "<h4>Model Performance:</h4>\n",
    "<p>Below we see the model accuracy and loss over our epochs. We will also look at a classification report to see our precision, recall, and f1 score on our testing set.</p>"
   ]
  },
  {
   "cell_type": "code",
   "execution_count": 16,
   "metadata": {},
   "outputs": [
    {
     "data": {
      "image/png": "[encoded data removed]",
      "text/plain": [
       "<Figure size 432x288 with 1 Axes>"
      ]
     },
     "metadata": {
      "needs_background": "light"
     },
     "output_type": "display_data"
    },
    {
     "data": {
      "image/png": "[encoded data removed]",
      "text/plain": [
       "<Figure size 432x288 with 1 Axes>"
      ]
     },
     "metadata": {
      "needs_background": "light"
     },
     "output_type": "display_data"
    }
   ],
   "source": [
    "plt.plot(history.history['crf_viterbi_accuracy'])\n",
    "plt.plot(history.history['val_crf_viterbi_accuracy'])\n",
    "plt.title('Model accuracy')\n",
    "plt.ylabel('Accuracy')\n",
    "plt.xlabel('Epoch')\n",
    "plt.legend(['Train', 'Test'])\n",
    "plt.show()\n",
    "\n",
    "# Plot training & validation loss values\n",
    "plt.plot(history.history['loss'])\n",
    "plt.plot(history.history['val_loss'])\n",
    "plt.title('Model loss')\n",
    "plt.ylabel('Loss')\n",
    "plt.xlabel('Epoch')\n",
    "plt.legend(['Train', 'Test'], loc='upper left')\n",
    "plt.show()"
   ]
  },
  {
   "cell_type": "markdown",
   "metadata": {},
   "source": [
    "<p>As the number of epochs increase, the accuracy also increases, and the loss decreases.</p>"
   ]
  },
  {
   "cell_type": "code",
   "execution_count": 17,
   "metadata": {},
   "outputs": [
    {
     "name": "stdout",
     "output_type": "stream",
     "text": [
      "1350/1350 [==============================] - 1s 590us/step\n",
      "\n",
      "Model Test Accuracy:  0.999375\n",
      "\n",
      "               precision    recall  f1-score   support\n",
      "\n",
      "         0.0       1.00      1.00      1.00    172800\n",
      "         1.0       1.00      1.00      1.00     43200\n",
      "\n",
      "    accuracy                           1.00    216000\n",
      "   macro avg       1.00      1.00      1.00    216000\n",
      "weighted avg       1.00      1.00      1.00    216000\n",
      "\n"
     ]
    }
   ],
   "source": [
    "test_preds = model.predict(X_test)\n",
    "\n",
    "score, acc = model.evaluate(X_test, np.array(y_test),\n",
    "                            batch_size=64)\n",
    "print(\"\\nModel Test Accuracy: \", acc)\n",
    "\n",
    "flat_test_preds = []\n",
    "for i in test_preds: \n",
    "    flat_test_preds.append(i.flatten())\n",
    "    \n",
    "flat_actual = []\n",
    "for i in y_test: \n",
    "    flat_actual.append(i.flatten())\n",
    "\n",
    "print(\"\\n\",flat_classification_report(np.array(flat_test_preds), np.array(flat_actual)))"
   ]
  },
  {
   "cell_type": "markdown",
   "metadata": {},
   "source": [
    "<h4>Model Output:</h4>\n",
    "<p>We create a function below to format help us view a cleaned version of our model output so we can see for each email the actual vs. predicted tags.</p>"
   ]
  },
  {
   "cell_type": "code",
   "execution_count": 18,
   "metadata": {},
   "outputs": [
    {
     "name": "stdout",
     "output_type": "stream",
     "text": [
      "Word           Actual         Prediction\n",
      "=============================================\n",
      "Hi             : O               O\n",
      "this           : O               O\n",
      "is             : O               O\n",
      "Noah           : O               O\n",
      "Clark          : O               O\n",
      "I              : O               O\n",
      "need           : O               O\n",
      "you            : O               O\n",
      "to             : O               O\n",
      "do             : O               O\n",
      "the            : O               O\n",
      "following      : O               O\n",
      "Please         : O               O\n",
      "help           : O               O\n",
      "me             : O               O\n",
      "transfer       : O               O\n",
      "6298950        : amount          amount\n",
      "GGP            : currency        currency\n",
      "from           : O               O\n",
      "879725174      : accountA        accountA\n",
      "into           : O               O\n",
      "779227360      : accountB        accountB\n",
      "Thanks         : O               O\n",
      "\n",
      "Hi this is Noah Clark  I need you to do the following  Please help me transfer 6298950 GGP from 879725174 into 779227360  Thanks\n",
      "\n",
      "{'amount': '6298950', 'currency': 'GGP', 'accountA': '879725174', 'accountB': '779227360'}\n"
     ]
    }
   ],
   "source": [
    "def view_model_output(i,X_test,y_test,words,tags,pred):\n",
    "    p = model.predict(np.array([X_test[i]]))\n",
    "    p = np.argmax(p, axis=-1)\n",
    "    true = np.argmax(y_test[i], -1)\n",
    "    print(\"{:15}{:15}{}\".format(\"Word\", \"Actual\", \"Prediction\"))\n",
    "    print(45 * \"=\")\n",
    "    results = {}\n",
    "    for w, t, pred in zip(X_test[i], true, p[0]):\n",
    "        if w != 0 and w!= len(words)-1:\n",
    "            print(\"{:15}: {:15} {}\".format(words[w-1], tags[t], tags[pred]))\n",
    "            if tags[t] != \"O\": \n",
    "                results[tags[t]] = words[w-1]\n",
    "    return results\n",
    "                        \n",
    "d_result = view_model_output(7,X_test,y_test,words,tags,test_preds)\n",
    "print()\n",
    "print(sentences[indices_test[7]])\n",
    "print()\n",
    "print(d_result)"
   ]
  },
  {
   "cell_type": "markdown",
   "metadata": {},
   "source": [
    "<h4>Save Model:</h4>\n",
    "<p>We now save our model so we can load it and use it in the future. Since we have a custom CRF layer we need to create a quick function so that when we load it, we get no errors.</p>"
   ]
  },
  {
   "cell_type": "code",
   "execution_count": 19,
   "metadata": {},
   "outputs": [],
   "source": [
    "filename = 'model_final.h5'\n",
    "model.save(filename)"
   ]
  },
  {
   "cell_type": "code",
   "execution_count": 20,
   "metadata": {},
   "outputs": [],
   "source": [
    "from keras_contrib.layers import CRF\n",
    "from keras.models import load_model\n",
    "\n",
    "def create_custom_objects():\n",
    "    instanceHolder = {\"instance\": None}\n",
    "    class ClassWrapper(CRF):\n",
    "        def __init__(self, *args, **kwargs):\n",
    "            instanceHolder[\"instance\"] = self\n",
    "            super(ClassWrapper, self).__init__(*args, **kwargs)\n",
    "    def loss(*args):\n",
    "        method = getattr(instanceHolder[\"instance\"], \"loss_function\")\n",
    "        return method(*args)\n",
    "    def accuracy(*args):\n",
    "        method = getattr(instanceHolder[\"instance\"], \"accuracy\")\n",
    "        return method(*args)\n",
    "    return {\"ClassWrapper\": ClassWrapper ,\"CRF\": ClassWrapper, \"loss\": loss, \"accuracy\":accuracy}\n",
    "\n",
    "def load_keras_model(path):\n",
    "    model = load_model(path, custom_objects=create_custom_objects(),compile=False)\n",
    "    return model\n",
    "\n",
    "model2 = load_keras_model(filename)\n",
    "model2.compile(optimizer=\"rmsprop\", loss=crf.loss_function, metrics=[crf.accuracy])"
   ]
  },
  {
   "cell_type": "markdown",
   "metadata": {},
   "source": [
    "<h4>Authentication Token:</h4>\n",
    "<p>The first step to using our FFDC APIs is authenticating. We have a csv called config.csv which has our application id, access key, reply url, token endpoint, and base url. The following class allows us to authenticate. When we get a 200 as a response it means we are fully authenticated and ready to use the endpoints.</p>"
   ]
  },
  {
   "cell_type": "code",
   "execution_count": 21,
   "metadata": {},
   "outputs": [
    {
     "name": "stdout",
     "output_type": "stream",
     "text": [
      "<Response [200]>\n",
      "200\n"
     ]
    }
   ],
   "source": [
    "class authenticate: \n",
    "    def __init__(self,config_file): \n",
    "        self.df = pd.read_csv(config_file)\n",
    "        self.client_id = self.df['application_id'].values[0]\n",
    "        self.client_secret = self.df['access_key'].values[0]\n",
    "        self.reply_url = self.df['reply_url'].values[0]\n",
    "        self.token_endpoint = self.df['token_endpoint'].values[0]\n",
    "        self.base_url = self.df['base_url'].values[0]\n",
    "        \n",
    "    def get_token(self): \n",
    "        headers = {\n",
    "        }\n",
    "        data = {\n",
    "            'grant_type'     : 'client_credentials',\n",
    "            'client_id'      : self.client_id,\n",
    "            'client_secret'  : self.client_secret\n",
    "        }\n",
    "        response = requests.request('POST', self.token_endpoint, data=data, headers=headers)\n",
    "        print(response)\n",
    "        cleaned_response = response.text.replace(':null', ':\"null\"')\n",
    "        response_dict = eval(cleaned_response)\n",
    "        token = response_dict['access_token']\n",
    "        return response, token\n",
    "    \n",
    "a = authenticate('config.csv')\n",
    "response,token = a.get_token()\n",
    "print(response.status_code)"
   ]
  },
  {
   "cell_type": "markdown",
   "metadata": {},
   "source": [
    "<h4>Sample Post:</h4>\n",
    "<p>Since we are just sending the debitor, creditor, amount, and currency we can directly modify this sample instead of recreating it each time.</p>"
   ]
  },
  {
   "cell_type": "code",
   "execution_count": 22,
   "metadata": {},
   "outputs": [],
   "source": [
    "sample_post = {\n",
    "  \"initiatingParty\": \"DHILDHILXXX\",\n",
    "  \"paymentInformationId\": \"MMSTADV52788051\",\n",
    "  \"paymentMethod\": \"TRF\",\n",
    "  \"requestedExecutionDate\": \"2018-08-28\",\n",
    "  \"paymentIdentification\": {\n",
    "    \"instructionIdentification\": \"MMSTADV52788051\",\n",
    "    \"endToEndIdentification\": \"MMSTADV52788051\"\n",
    "  },\n",
    "  \"instructionPriority\": \"Normal\",\n",
    "  \"chargeBearer\": \"FollowingServiceLevel\",\n",
    "  \"instructedAmount\": {\n",
    "    \"amount\": 100.11,\n",
    "    \"currency\": \"ILS\"\n",
    "  },\n",
    "  \"debitorAgent\": {\n",
    "    \"identification\": \"EATCIL2WXXX\"\n",
    "  },\n",
    "  \"debtorAccountId\": {\n",
    "    \"identificationType\": \"PrimaryAccountNumber\",\n",
    "    \"identification\": \"8888888888\",\n",
    "    \"name\": \"Name\",\n",
    "    \"currency\": \"USD\"\n",
    "  },\n",
    "  \"creditor\": {\n",
    "    \"name\": \"Name\",\n",
    "    \"postalAddress\": {\n",
    "      \"addressLine\": [\n",
    "        \"68 Rue de Charenton\"\n",
    "      ],\n",
    "      \"street\": \"Street Name\",\n",
    "      \"buildingNumber\": \"14\",\n",
    "      \"postalCode\": \"70018\",\n",
    "      \"city\": \"City\",\n",
    "      \"country\": \"SG\"\n",
    "    }\n",
    "  },\n",
    "  \"creditorAgent\": {\n",
    "    \"identification\": \"WPACIL2WXXX\"\n",
    "  },\n",
    "  \"creditorAccountId\": {\n",
    "    \"identificationType\": \"PrimaryAccountNumber\",\n",
    "    \"identification\": \"999999999\"\n",
    "  },\n",
    "  \"relatedRemittanceInformation\": {\n",
    "    \"remittanceIdentification\": \"RmtId1234\",\n",
    "    \"remittanceLocationMethod\": \"URID\",\n",
    "    \"remittanceLocationElectronicAddress\": \"Location\"\n",
    "  },\n",
    "  \"remittanceInformationUnstructured\": \"RmtInf1234\"\n",
    "}"
   ]
  },
  {
   "cell_type": "markdown",
   "metadata": {},
   "source": [
    "<h4>POST request to Payments API:</h4>\n",
    "<p>We can use the following class to make a POST request to the payment-initiation API. Note the payment intiation endpoint in the base URL in our __init__ method and the connect endpoint, which posts the paylod.</p>"
   ]
  },
  {
   "cell_type": "code",
   "execution_count": 23,
   "metadata": {},
   "outputs": [],
   "source": [
    "class payments_api: \n",
    "    def __init__(self,token,method,payload,additional_headers={},params = None): \n",
    "        self.token = token \n",
    "        self.endpoint_type = method\n",
    "        self.base_url = 'https://api.preprod.fusionfabric.cloud/payment/payment-initiation/v1/credit-transfer/international/initiate'\n",
    "        self.additional_headers = additional_headers\n",
    "        self.params = params\n",
    "    \n",
    "    def connect_endpoint(self):\n",
    "        self.url = self.base_url \n",
    "        headers = {\n",
    "            'Authorization': 'Bearer ' + self.token,\n",
    "            'Content-Type' : 'application/json'\n",
    "            }\n",
    "        for key in self.additional_headers.keys():\n",
    "            headers[key] = self.additional_headers[key]\n",
    "        stringified_payload = json.dumps(payload)\n",
    "        response = requests.request(self.endpoint_type, self.url, params=self.params, data=stringified_payload,headers=headers)\n",
    "        return response"
   ]
  },
  {
   "cell_type": "markdown",
   "metadata": {},
   "source": [
    "<h4>Format Extracted Data:</h4>\n",
    "<p>We now take our results from the sentence below and pass the model's predictions of the debitor account, creditor account, amount, and currency to the API in a JSON structure.</p>"
   ]
  },
  {
   "cell_type": "code",
   "execution_count": 24,
   "metadata": {},
   "outputs": [
    {
     "data": {
      "text/plain": [
       "'Hi this is Noah Clark  I need you to do the following  Please help me transfer 6298950 GGP from 879725174 into 779227360  Thanks'"
      ]
     },
     "execution_count": 24,
     "metadata": {},
     "output_type": "execute_result"
    }
   ],
   "source": [
    "sentences[indices_test[7]]"
   ]
  },
  {
   "cell_type": "code",
   "execution_count": 25,
   "metadata": {},
   "outputs": [
    {
     "name": "stdout",
     "output_type": "stream",
     "text": [
      "Results:  {'amount': '6298950', 'currency': 'GGP', 'accountA': '879725174', 'accountB': '779227360'} \n",
      "\n",
      "Payload:\n",
      " {'initiatingParty': 'DHILDHILXXX', 'paymentInformationId': 'MMSTADV52788051', 'paymentMethod': 'TRF', 'requestedExecutionDate': '2018-08-28', 'paymentIdentification': {'instructionIdentification': 'MMSTADV52788051', 'endToEndIdentification': 'MMSTADV52788051'}, 'instructionPriority': 'Normal', 'chargeBearer': 'FollowingServiceLevel', 'instructedAmount': {'amount': 6298950.0, 'currency': 'GGP'}, 'debitorAgent': {'identification': 'EATCIL2WXXX'}, 'debtorAccountId': {'identificationType': 'PrimaryAccountNumber', 'identification': '8888888888', 'name': '779227360', 'currency': 'USD'}, 'creditor': {'name': '879725174', 'postalAddress': {'addressLine': ['68 Rue de Charenton'], 'street': 'Street Name', 'buildingNumber': '14', 'postalCode': '70018', 'city': 'City', 'country': 'SG'}}, 'creditorAgent': {'identification': 'WPACIL2WXXX'}, 'creditorAccountId': {'identificationType': 'PrimaryAccountNumber', 'identification': '999999999'}, 'relatedRemittanceInformation': {'remittanceIdentification': 'RmtId1234', 'remittanceLocationMethod': 'URID', 'remittanceLocationElectronicAddress': 'Location'}, 'remittanceInformationUnstructured': 'RmtInf1234'}\n"
     ]
    }
   ],
   "source": [
    "print(\"Results: \",d_result,\"\\n\")\n",
    "payload = sample_post\n",
    "payload['debtorAccountId']['name'] = d_result['accountB']\n",
    "payload['creditor']['name'] = d_result['accountA']\n",
    "payload['instructedAmount']['amount'] = float(d_result['amount'])\n",
    "payload['instructedAmount']['currency'] = d_result['currency']\n",
    "print(\"Payload:\\n\",payload)"
   ]
  },
  {
   "cell_type": "markdown",
   "metadata": {},
   "source": [
    "<h4>POST Data:</h4>\n",
    "<p>We can now POST the extracted data in the correct payload form. When we get a response code of 200 we have made a successful post. We can print the response text and we should see a payment resource ID which we can pass into a get request to check on the payment status.</p>"
   ]
  },
  {
   "cell_type": "code",
   "execution_count": 26,
   "metadata": {},
   "outputs": [
    {
     "name": "stdout",
     "output_type": "stream",
     "text": [
      "<Response [200]>\n",
      "{\"paymentResourceId\":\"O9Y2PLAB65K5A31B\",\"status\":\"PDNG\"}\n"
     ]
    }
   ],
   "source": [
    "a = authenticate('config.csv')\n",
    "response,token = a.get_token()\n",
    "\n",
    "p = payments_api(token,'POST',payload)\n",
    "response = p.connect_endpoint()\n",
    "print(response.text)"
   ]
  },
  {
   "cell_type": "markdown",
   "metadata": {},
   "source": [
    "<h4>GET Payment Status:</h4>\n",
    "<p>We use the following class to check the status of a POSTed payment. It takes in the internationPaymentId.</p>"
   ]
  },
  {
   "cell_type": "code",
   "execution_count": 27,
   "metadata": {},
   "outputs": [],
   "source": [
    "class get_payments_api: \n",
    "    def __init__(self,token,method,internationalPaymentId,payload,additional_headers={},params = None): \n",
    "        self.token = token \n",
    "        self.endpoint_type = method\n",
    "        self.base_url = 'https://api.preprod.fusionfabric.cloud/payment/payment-initiation/v1/credit-transfer/international/'+internationalPaymentId+'/status'\n",
    "        self.additional_headers = additional_headers\n",
    "        self.params = params\n",
    "    \n",
    "    def connect_endpoint(self):\n",
    "        self.url = self.base_url \n",
    "        headers = {\n",
    "            'Authorization': 'Bearer ' + self.token,\n",
    "            'Content-Type' : 'application/json'\n",
    "            }\n",
    "        for key in self.additional_headers.keys():\n",
    "            headers[key] = self.additional_headers[key]\n",
    "        stringified_payload = json.dumps(payload)\n",
    "        response = requests.request(self.endpoint_type, self.url, params=self.params, data=stringified_payload,headers=headers)\n",
    "        return response"
   ]
  },
  {
   "cell_type": "markdown",
   "metadata": {},
   "source": [
    "<h4>Check Status:</h4>\n",
    "<p>Below we check the payment status for the posted payment from our Machine Learning model's extracted data. We see the transaction status is pending and that we have successfully built an NER model and submitted POST/GET requests with our FFDC payment API.</p>"
   ]
  },
  {
   "cell_type": "code",
   "execution_count": 28,
   "metadata": {},
   "outputs": [
    {
     "name": "stdout",
     "output_type": "stream",
     "text": [
      "<Response [200]>\n",
      "{\"paymentInitiationStatusReport\":{\"transactionStatus\":\"PDNG\",\"statusReasonCode\":\"60087\",\"statusReasonAdditionalInformation\":\"GGP is an invalid currency\"}}\n"
     ]
    }
   ],
   "source": [
    "method = 'GET'\n",
    "internationalPaymentId = \"O9Y2PLAB65K5A31B\"\n",
    "payload = ''\n",
    "\n",
    "a = authenticate('config.csv')\n",
    "response,token = a.get_token()\n",
    "\n",
    "g = get_payments_api(token,method,internationalPaymentId,payload)\n",
    "response = g.connect_endpoint()\n",
    "print(response.text)"
   ]
  },
  {
   "cell_type": "code",
   "execution_count": null,
   "metadata": {},
   "outputs": [],
   "source": []
  }
 ],
 "metadata": {
  "kernelspec": {
   "display_name": "Python 3",
   "language": "python",
   "name": "python3"
  },
  "language_info": {
   "codemirror_mode": {
    "name": "ipython",
    "version": 3
   },
   "file_extension": ".py",
   "mimetype": "text/x-python",
   "name": "python",
   "nbconvert_exporter": "python",
   "pygments_lexer": "ipython3",
   "version": "3.7.9"
  }
 },
 "nbformat": 4,
 "nbformat_minor": 2
}
